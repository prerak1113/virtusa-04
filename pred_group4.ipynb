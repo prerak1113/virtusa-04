{
 "cells": [
  {
   "cell_type": "code",
   "execution_count": 1,
   "metadata": {},
   "outputs": [],
   "source": [
    "import pandas as pd\n",
    "import numpy as np"
   ]
  },
  {
   "cell_type": "code",
   "execution_count": 2,
   "metadata": {},
   "outputs": [],
   "source": [
    "data = pd.read_excel(\"P:/COB.xlsx\")"
   ]
  },
  {
   "cell_type": "code",
   "execution_count": 3,
   "metadata": {},
   "outputs": [
    {
     "data": {
      "text/html": [
       "<div>\n",
       "<style scoped>\n",
       "    .dataframe tbody tr th:only-of-type {\n",
       "        vertical-align: middle;\n",
       "    }\n",
       "\n",
       "    .dataframe tbody tr th {\n",
       "        vertical-align: top;\n",
       "    }\n",
       "\n",
       "    .dataframe thead th {\n",
       "        text-align: right;\n",
       "    }\n",
       "</style>\n",
       "<table border=\"1\" class=\"dataframe\">\n",
       "  <thead>\n",
       "    <tr style=\"text-align: right;\">\n",
       "      <th></th>\n",
       "      <th>Unnamed: 0</th>\n",
       "      <th>Claim ID</th>\n",
       "      <th>Primary</th>\n",
       "      <th>Secondary</th>\n",
       "      <th>Plan_Type</th>\n",
       "      <th>Billed_Amt</th>\n",
       "      <th>P_Allowed_Amt</th>\n",
       "      <th>Deductible</th>\n",
       "      <th>CoInsurance</th>\n",
       "      <th>Copay</th>\n",
       "      <th>S_Allowed_Amt</th>\n",
       "      <th>CoInsurance_Amt</th>\n",
       "      <th>Primary_paid</th>\n",
       "      <th>Secondary_paid</th>\n",
       "      <th>OOP</th>\n",
       "      <th>TPL</th>\n",
       "      <th>Total_Coverage</th>\n",
       "    </tr>\n",
       "  </thead>\n",
       "  <tbody>\n",
       "    <tr>\n",
       "      <th>0</th>\n",
       "      <td>0</td>\n",
       "      <td>1507116439</td>\n",
       "      <td>QC Life and Health</td>\n",
       "      <td>Medicaid</td>\n",
       "      <td>HMO</td>\n",
       "      <td>4074</td>\n",
       "      <td>1283</td>\n",
       "      <td>58</td>\n",
       "      <td>40</td>\n",
       "      <td>407</td>\n",
       "      <td>1568</td>\n",
       "      <td>513.20</td>\n",
       "      <td>304.80</td>\n",
       "      <td>1263</td>\n",
       "      <td>2506.20</td>\n",
       "      <td>1</td>\n",
       "      <td>1567.80</td>\n",
       "    </tr>\n",
       "    <tr>\n",
       "      <th>1</th>\n",
       "      <td>1</td>\n",
       "      <td>1875426346</td>\n",
       "      <td>BlueCross BlueShield of Tennessee</td>\n",
       "      <td>Medicaid</td>\n",
       "      <td>EPO</td>\n",
       "      <td>5342</td>\n",
       "      <td>1559</td>\n",
       "      <td>39</td>\n",
       "      <td>40</td>\n",
       "      <td>424</td>\n",
       "      <td>1493</td>\n",
       "      <td>623.60</td>\n",
       "      <td>472.40</td>\n",
       "      <td>1020</td>\n",
       "      <td>3849.60</td>\n",
       "      <td>1</td>\n",
       "      <td>1492.40</td>\n",
       "    </tr>\n",
       "    <tr>\n",
       "      <th>2</th>\n",
       "      <td>2</td>\n",
       "      <td>1370677640</td>\n",
       "      <td>Ambetter from Buckeye Health</td>\n",
       "      <td>Medicaid</td>\n",
       "      <td>PPO</td>\n",
       "      <td>5339</td>\n",
       "      <td>2848</td>\n",
       "      <td>69</td>\n",
       "      <td>50</td>\n",
       "      <td>107</td>\n",
       "      <td>1994</td>\n",
       "      <td>1424.00</td>\n",
       "      <td>1248.00</td>\n",
       "      <td>746</td>\n",
       "      <td>3345.00</td>\n",
       "      <td>1</td>\n",
       "      <td>1994.00</td>\n",
       "    </tr>\n",
       "    <tr>\n",
       "      <th>3</th>\n",
       "      <td>3</td>\n",
       "      <td>1865326422</td>\n",
       "      <td>Health First Commercial Plans, Inc.</td>\n",
       "      <td>Medicaid</td>\n",
       "      <td>HMO</td>\n",
       "      <td>5856</td>\n",
       "      <td>1409</td>\n",
       "      <td>56</td>\n",
       "      <td>35</td>\n",
       "      <td>449</td>\n",
       "      <td>2564</td>\n",
       "      <td>493.15</td>\n",
       "      <td>410.85</td>\n",
       "      <td>2153</td>\n",
       "      <td>3292.15</td>\n",
       "      <td>1</td>\n",
       "      <td>2563.85</td>\n",
       "    </tr>\n",
       "    <tr>\n",
       "      <th>4</th>\n",
       "      <td>4</td>\n",
       "      <td>1217527469</td>\n",
       "      <td>FirstCare Health Plans</td>\n",
       "      <td>Medicaid</td>\n",
       "      <td>EPO</td>\n",
       "      <td>4533</td>\n",
       "      <td>2666</td>\n",
       "      <td>40</td>\n",
       "      <td>20</td>\n",
       "      <td>401</td>\n",
       "      <td>2405</td>\n",
       "      <td>533.20</td>\n",
       "      <td>1691.80</td>\n",
       "      <td>713</td>\n",
       "      <td>2128.20</td>\n",
       "      <td>1</td>\n",
       "      <td>2404.80</td>\n",
       "    </tr>\n",
       "    <tr>\n",
       "      <th>...</th>\n",
       "      <td>...</td>\n",
       "      <td>...</td>\n",
       "      <td>...</td>\n",
       "      <td>...</td>\n",
       "      <td>...</td>\n",
       "      <td>...</td>\n",
       "      <td>...</td>\n",
       "      <td>...</td>\n",
       "      <td>...</td>\n",
       "      <td>...</td>\n",
       "      <td>...</td>\n",
       "      <td>...</td>\n",
       "      <td>...</td>\n",
       "      <td>...</td>\n",
       "      <td>...</td>\n",
       "      <td>...</td>\n",
       "      <td>...</td>\n",
       "    </tr>\n",
       "    <tr>\n",
       "      <th>9995</th>\n",
       "      <td>9995</td>\n",
       "      <td>1843233816</td>\n",
       "      <td>Bright HealthCare</td>\n",
       "      <td>Medicaid</td>\n",
       "      <td>POS</td>\n",
       "      <td>4767</td>\n",
       "      <td>2602</td>\n",
       "      <td>46</td>\n",
       "      <td>50</td>\n",
       "      <td>271</td>\n",
       "      <td>3436</td>\n",
       "      <td>1301.00</td>\n",
       "      <td>984.00</td>\n",
       "      <td>2452</td>\n",
       "      <td>1331.00</td>\n",
       "      <td>1</td>\n",
       "      <td>3436.00</td>\n",
       "    </tr>\n",
       "    <tr>\n",
       "      <th>9996</th>\n",
       "      <td>9996</td>\n",
       "      <td>1303290908</td>\n",
       "      <td>Health First Commercial Plans, Inc.</td>\n",
       "      <td>Medicaid</td>\n",
       "      <td>POS</td>\n",
       "      <td>4106</td>\n",
       "      <td>1087</td>\n",
       "      <td>52</td>\n",
       "      <td>0</td>\n",
       "      <td>117</td>\n",
       "      <td>2446</td>\n",
       "      <td>0.00</td>\n",
       "      <td>918.00</td>\n",
       "      <td>1528</td>\n",
       "      <td>1660.00</td>\n",
       "      <td>1</td>\n",
       "      <td>2446.00</td>\n",
       "    </tr>\n",
       "    <tr>\n",
       "      <th>9997</th>\n",
       "      <td>9997</td>\n",
       "      <td>1853068479</td>\n",
       "      <td>Cigna Healthcare</td>\n",
       "      <td>Medicaid</td>\n",
       "      <td>EPO</td>\n",
       "      <td>4558</td>\n",
       "      <td>1831</td>\n",
       "      <td>69</td>\n",
       "      <td>25</td>\n",
       "      <td>181</td>\n",
       "      <td>1294</td>\n",
       "      <td>457.75</td>\n",
       "      <td>1123.25</td>\n",
       "      <td>170</td>\n",
       "      <td>3264.75</td>\n",
       "      <td>1</td>\n",
       "      <td>1293.25</td>\n",
       "    </tr>\n",
       "    <tr>\n",
       "      <th>9998</th>\n",
       "      <td>9998</td>\n",
       "      <td>1707549314</td>\n",
       "      <td>MercyCare Health Plans</td>\n",
       "      <td>Medicaid</td>\n",
       "      <td>PPO</td>\n",
       "      <td>4317</td>\n",
       "      <td>1503</td>\n",
       "      <td>36</td>\n",
       "      <td>35</td>\n",
       "      <td>292</td>\n",
       "      <td>1963</td>\n",
       "      <td>526.05</td>\n",
       "      <td>648.95</td>\n",
       "      <td>1314</td>\n",
       "      <td>2354.05</td>\n",
       "      <td>1</td>\n",
       "      <td>1962.95</td>\n",
       "    </tr>\n",
       "    <tr>\n",
       "      <th>9999</th>\n",
       "      <td>9999</td>\n",
       "      <td>1240749634</td>\n",
       "      <td>Sanford Health Plan</td>\n",
       "      <td>Medicaid</td>\n",
       "      <td>PPO</td>\n",
       "      <td>4438</td>\n",
       "      <td>1780</td>\n",
       "      <td>46</td>\n",
       "      <td>30</td>\n",
       "      <td>470</td>\n",
       "      <td>1470</td>\n",
       "      <td>534.00</td>\n",
       "      <td>730.00</td>\n",
       "      <td>740</td>\n",
       "      <td>2968.00</td>\n",
       "      <td>1</td>\n",
       "      <td>1470.00</td>\n",
       "    </tr>\n",
       "  </tbody>\n",
       "</table>\n",
       "<p>10000 rows × 17 columns</p>\n",
       "</div>"
      ],
      "text/plain": [
       "      Unnamed: 0    Claim ID                              Primary Secondary  \\\n",
       "0              0  1507116439                   QC Life and Health  Medicaid   \n",
       "1              1  1875426346    BlueCross BlueShield of Tennessee  Medicaid   \n",
       "2              2  1370677640         Ambetter from Buckeye Health  Medicaid   \n",
       "3              3  1865326422  Health First Commercial Plans, Inc.  Medicaid   \n",
       "4              4  1217527469               FirstCare Health Plans  Medicaid   \n",
       "...          ...         ...                                  ...       ...   \n",
       "9995        9995  1843233816                    Bright HealthCare  Medicaid   \n",
       "9996        9996  1303290908  Health First Commercial Plans, Inc.  Medicaid   \n",
       "9997        9997  1853068479                     Cigna Healthcare  Medicaid   \n",
       "9998        9998  1707549314               MercyCare Health Plans  Medicaid   \n",
       "9999        9999  1240749634                  Sanford Health Plan  Medicaid   \n",
       "\n",
       "     Plan_Type  Billed_Amt  P_Allowed_Amt  Deductible  CoInsurance  Copay  \\\n",
       "0          HMO        4074           1283          58           40    407   \n",
       "1          EPO        5342           1559          39           40    424   \n",
       "2          PPO        5339           2848          69           50    107   \n",
       "3          HMO        5856           1409          56           35    449   \n",
       "4          EPO        4533           2666          40           20    401   \n",
       "...        ...         ...            ...         ...          ...    ...   \n",
       "9995       POS        4767           2602          46           50    271   \n",
       "9996       POS        4106           1087          52            0    117   \n",
       "9997       EPO        4558           1831          69           25    181   \n",
       "9998       PPO        4317           1503          36           35    292   \n",
       "9999       PPO        4438           1780          46           30    470   \n",
       "\n",
       "      S_Allowed_Amt  CoInsurance_Amt  Primary_paid  Secondary_paid      OOP  \\\n",
       "0              1568           513.20        304.80            1263  2506.20   \n",
       "1              1493           623.60        472.40            1020  3849.60   \n",
       "2              1994          1424.00       1248.00             746  3345.00   \n",
       "3              2564           493.15        410.85            2153  3292.15   \n",
       "4              2405           533.20       1691.80             713  2128.20   \n",
       "...             ...              ...           ...             ...      ...   \n",
       "9995           3436          1301.00        984.00            2452  1331.00   \n",
       "9996           2446             0.00        918.00            1528  1660.00   \n",
       "9997           1294           457.75       1123.25             170  3264.75   \n",
       "9998           1963           526.05        648.95            1314  2354.05   \n",
       "9999           1470           534.00        730.00             740  2968.00   \n",
       "\n",
       "      TPL  Total_Coverage  \n",
       "0       1         1567.80  \n",
       "1       1         1492.40  \n",
       "2       1         1994.00  \n",
       "3       1         2563.85  \n",
       "4       1         2404.80  \n",
       "...   ...             ...  \n",
       "9995    1         3436.00  \n",
       "9996    1         2446.00  \n",
       "9997    1         1293.25  \n",
       "9998    1         1962.95  \n",
       "9999    1         1470.00  \n",
       "\n",
       "[10000 rows x 17 columns]"
      ]
     },
     "execution_count": 3,
     "metadata": {},
     "output_type": "execute_result"
    }
   ],
   "source": [
    "data"
   ]
  },
  {
   "cell_type": "code",
   "execution_count": 4,
   "metadata": {},
   "outputs": [],
   "source": [
    "train_data = data.drop([\"Unnamed: 0\",\"Claim ID\",\"Primary\",\"Secondary\",\"Plan_Type\",\"CoInsurance\",\"OOP\",\"Primary_paid\",\"Secondary_paid\",\"TPL\"], axis=1)"
   ]
  },
  {
   "cell_type": "code",
   "execution_count": 5,
   "metadata": {},
   "outputs": [
    {
     "data": {
      "text/html": [
       "<div>\n",
       "<style scoped>\n",
       "    .dataframe tbody tr th:only-of-type {\n",
       "        vertical-align: middle;\n",
       "    }\n",
       "\n",
       "    .dataframe tbody tr th {\n",
       "        vertical-align: top;\n",
       "    }\n",
       "\n",
       "    .dataframe thead th {\n",
       "        text-align: right;\n",
       "    }\n",
       "</style>\n",
       "<table border=\"1\" class=\"dataframe\">\n",
       "  <thead>\n",
       "    <tr style=\"text-align: right;\">\n",
       "      <th></th>\n",
       "      <th>Billed_Amt</th>\n",
       "      <th>P_Allowed_Amt</th>\n",
       "      <th>Deductible</th>\n",
       "      <th>Copay</th>\n",
       "      <th>S_Allowed_Amt</th>\n",
       "      <th>CoInsurance_Amt</th>\n",
       "      <th>Total_Coverage</th>\n",
       "    </tr>\n",
       "  </thead>\n",
       "  <tbody>\n",
       "    <tr>\n",
       "      <th>0</th>\n",
       "      <td>4074</td>\n",
       "      <td>1283</td>\n",
       "      <td>58</td>\n",
       "      <td>407</td>\n",
       "      <td>1568</td>\n",
       "      <td>513.20</td>\n",
       "      <td>1567.80</td>\n",
       "    </tr>\n",
       "    <tr>\n",
       "      <th>1</th>\n",
       "      <td>5342</td>\n",
       "      <td>1559</td>\n",
       "      <td>39</td>\n",
       "      <td>424</td>\n",
       "      <td>1493</td>\n",
       "      <td>623.60</td>\n",
       "      <td>1492.40</td>\n",
       "    </tr>\n",
       "    <tr>\n",
       "      <th>2</th>\n",
       "      <td>5339</td>\n",
       "      <td>2848</td>\n",
       "      <td>69</td>\n",
       "      <td>107</td>\n",
       "      <td>1994</td>\n",
       "      <td>1424.00</td>\n",
       "      <td>1994.00</td>\n",
       "    </tr>\n",
       "    <tr>\n",
       "      <th>3</th>\n",
       "      <td>5856</td>\n",
       "      <td>1409</td>\n",
       "      <td>56</td>\n",
       "      <td>449</td>\n",
       "      <td>2564</td>\n",
       "      <td>493.15</td>\n",
       "      <td>2563.85</td>\n",
       "    </tr>\n",
       "    <tr>\n",
       "      <th>4</th>\n",
       "      <td>4533</td>\n",
       "      <td>2666</td>\n",
       "      <td>40</td>\n",
       "      <td>401</td>\n",
       "      <td>2405</td>\n",
       "      <td>533.20</td>\n",
       "      <td>2404.80</td>\n",
       "    </tr>\n",
       "    <tr>\n",
       "      <th>...</th>\n",
       "      <td>...</td>\n",
       "      <td>...</td>\n",
       "      <td>...</td>\n",
       "      <td>...</td>\n",
       "      <td>...</td>\n",
       "      <td>...</td>\n",
       "      <td>...</td>\n",
       "    </tr>\n",
       "    <tr>\n",
       "      <th>9995</th>\n",
       "      <td>4767</td>\n",
       "      <td>2602</td>\n",
       "      <td>46</td>\n",
       "      <td>271</td>\n",
       "      <td>3436</td>\n",
       "      <td>1301.00</td>\n",
       "      <td>3436.00</td>\n",
       "    </tr>\n",
       "    <tr>\n",
       "      <th>9996</th>\n",
       "      <td>4106</td>\n",
       "      <td>1087</td>\n",
       "      <td>52</td>\n",
       "      <td>117</td>\n",
       "      <td>2446</td>\n",
       "      <td>0.00</td>\n",
       "      <td>2446.00</td>\n",
       "    </tr>\n",
       "    <tr>\n",
       "      <th>9997</th>\n",
       "      <td>4558</td>\n",
       "      <td>1831</td>\n",
       "      <td>69</td>\n",
       "      <td>181</td>\n",
       "      <td>1294</td>\n",
       "      <td>457.75</td>\n",
       "      <td>1293.25</td>\n",
       "    </tr>\n",
       "    <tr>\n",
       "      <th>9998</th>\n",
       "      <td>4317</td>\n",
       "      <td>1503</td>\n",
       "      <td>36</td>\n",
       "      <td>292</td>\n",
       "      <td>1963</td>\n",
       "      <td>526.05</td>\n",
       "      <td>1962.95</td>\n",
       "    </tr>\n",
       "    <tr>\n",
       "      <th>9999</th>\n",
       "      <td>4438</td>\n",
       "      <td>1780</td>\n",
       "      <td>46</td>\n",
       "      <td>470</td>\n",
       "      <td>1470</td>\n",
       "      <td>534.00</td>\n",
       "      <td>1470.00</td>\n",
       "    </tr>\n",
       "  </tbody>\n",
       "</table>\n",
       "<p>10000 rows × 7 columns</p>\n",
       "</div>"
      ],
      "text/plain": [
       "      Billed_Amt  P_Allowed_Amt  Deductible  Copay  S_Allowed_Amt  \\\n",
       "0           4074           1283          58    407           1568   \n",
       "1           5342           1559          39    424           1493   \n",
       "2           5339           2848          69    107           1994   \n",
       "3           5856           1409          56    449           2564   \n",
       "4           4533           2666          40    401           2405   \n",
       "...          ...            ...         ...    ...            ...   \n",
       "9995        4767           2602          46    271           3436   \n",
       "9996        4106           1087          52    117           2446   \n",
       "9997        4558           1831          69    181           1294   \n",
       "9998        4317           1503          36    292           1963   \n",
       "9999        4438           1780          46    470           1470   \n",
       "\n",
       "      CoInsurance_Amt  Total_Coverage  \n",
       "0              513.20         1567.80  \n",
       "1              623.60         1492.40  \n",
       "2             1424.00         1994.00  \n",
       "3              493.15         2563.85  \n",
       "4              533.20         2404.80  \n",
       "...               ...             ...  \n",
       "9995          1301.00         3436.00  \n",
       "9996             0.00         2446.00  \n",
       "9997           457.75         1293.25  \n",
       "9998           526.05         1962.95  \n",
       "9999           534.00         1470.00  \n",
       "\n",
       "[10000 rows x 7 columns]"
      ]
     },
     "execution_count": 5,
     "metadata": {},
     "output_type": "execute_result"
    }
   ],
   "source": [
    "train_data"
   ]
  },
  {
   "cell_type": "code",
   "execution_count": 6,
   "metadata": {},
   "outputs": [],
   "source": [
    "from sklearn.model_selection import train_test_split\n",
    "from sklearn.preprocessing import StandardScaler    \n",
    "X = train_data.drop(\"Total_Coverage\", axis=1)\n",
    "y = train_data[\"Total_Coverage\"]\n",
    "X_train, X_test, y_train, y_test = train_test_split(X, y, test_size=0.3, random_state=0)"
   ]
  },
  {
   "cell_type": "code",
   "execution_count": 7,
   "metadata": {},
   "outputs": [],
   "source": [
    "from sklearn.preprocessing import StandardScaler\n",
    "\n",
    "sc = StandardScaler()\n",
    "X_train = sc.fit_transform(X_train)\n",
    "X_test = sc.transform(X_test)"
   ]
  },
  {
   "cell_type": "code",
   "execution_count": 8,
   "metadata": {},
   "outputs": [
    {
     "name": "stdout",
     "output_type": "stream",
     "text": [
      "(7000, 6)\n",
      "(3000, 6)\n",
      "(7000,)\n"
     ]
    }
   ],
   "source": [
    "print(X_train.shape)\n",
    "print(X_test.shape)\n",
    "print(y_train.shape)"
   ]
  },
  {
   "cell_type": "code",
   "execution_count": 9,
   "metadata": {},
   "outputs": [],
   "source": [
    "from sklearn.ensemble import RandomForestRegressor\n",
    "import statsmodels.formula.api as sm\n",
    "regressor = RandomForestRegressor(n_estimators=10, random_state=0)\n",
    "regressor.fit(X_train, y_train)\n",
    "y_pred = regressor.predict(X_test)"
   ]
  },
  {
   "cell_type": "code",
   "execution_count": 10,
   "metadata": {},
   "outputs": [
    {
     "name": "stdout",
     "output_type": "stream",
     "text": [
      "Mean Absolute Error: 15.370719999999993\n",
      "R2 Score: 0.9978870722413062\n",
      "Mean Squared Error: 1327.151627916667\n",
      "Root Mean Squared Error: 36.430092340216035\n"
     ]
    }
   ],
   "source": [
    "from sklearn import metrics\n",
    "print('Mean Absolute Error:', metrics.mean_absolute_error(y_test, y_pred))\n",
    "print('R2 Score:', metrics.r2_score(y_test, y_pred))\n",
    "print('Mean Squared Error:', metrics.mean_squared_error(y_test, y_pred))\n",
    "print('Root Mean Squared Error:', np.sqrt(metrics.mean_squared_error(y_test, y_pred)))"
   ]
  },
  {
   "cell_type": "code",
   "execution_count": 11,
   "metadata": {},
   "outputs": [],
   "source": [
    "import random\n",
    "billed_amt = np.random.randint(4000,6000,1)\n",
    "allowed_amt = np.random.randint(1000,3000,1)\n",
    "coins_list =[0,20,25,30,35,40,45,50]\n",
    "coinsp = random.choice(coins_list)\n",
    "coin = (coinsp*allowed_amt)/100\n",
    "Secondary_allowed_amt = np.random.randint(500,3500,1)\n",
    "deduc = np.random.randint(30,70,1)\n",
    "copay=np.random.randint(100,500,1)\n",
    "\n",
    "\n",
    "new_input = [[billed_amt,allowed_amt,deduc,copay,Secondary_allowed_amt,coin]]\n",
    "new_input = np.array(new_input)\n",
    "new_input.shape\n",
    "new_input = np.reshape(new_input,(new_input.shape[0],new_input.shape[1]))"
   ]
  },
  {
   "cell_type": "code",
   "execution_count": 12,
   "metadata": {},
   "outputs": [],
   "source": [
    "new_input = sc.transform(new_input)"
   ]
  },
  {
   "cell_type": "code",
   "execution_count": 13,
   "metadata": {},
   "outputs": [],
   "source": [
    "pred1 = regressor.predict(new_input)"
   ]
  },
  {
   "cell_type": "code",
   "execution_count": 14,
   "metadata": {},
   "outputs": [
    {
     "data": {
      "text/plain": [
       "array([2105.26])"
      ]
     },
     "execution_count": 14,
     "metadata": {},
     "output_type": "execute_result"
    }
   ],
   "source": [
    "pred1"
   ]
  },
  {
   "cell_type": "code",
   "execution_count": 15,
   "metadata": {},
   "outputs": [
    {
     "data": {
      "text/plain": [
       "array([4992])"
      ]
     },
     "execution_count": 15,
     "metadata": {},
     "output_type": "execute_result"
    }
   ],
   "source": [
    "billed_amt"
   ]
  },
  {
   "cell_type": "code",
   "execution_count": 16,
   "metadata": {},
   "outputs": [
    {
     "data": {
      "text/plain": [
       "array([1697])"
      ]
     },
     "execution_count": 16,
     "metadata": {},
     "output_type": "execute_result"
    }
   ],
   "source": [
    "allowed_amt"
   ]
  },
  {
   "cell_type": "code",
   "execution_count": 17,
   "metadata": {},
   "outputs": [
    {
     "data": {
      "text/plain": [
       "array([593.95])"
      ]
     },
     "execution_count": 17,
     "metadata": {},
     "output_type": "execute_result"
    }
   ],
   "source": [
    "coin"
   ]
  },
  {
   "cell_type": "code",
   "execution_count": 18,
   "metadata": {},
   "outputs": [
    {
     "data": {
      "text/plain": [
       "array([2105])"
      ]
     },
     "execution_count": 18,
     "metadata": {},
     "output_type": "execute_result"
    }
   ],
   "source": [
    "Secondary_allowed_amt"
   ]
  },
  {
   "cell_type": "code",
   "execution_count": 19,
   "metadata": {},
   "outputs": [
    {
     "data": {
      "text/plain": [
       "array([49])"
      ]
     },
     "execution_count": 19,
     "metadata": {},
     "output_type": "execute_result"
    }
   ],
   "source": [
    "deduc"
   ]
  },
  {
   "cell_type": "code",
   "execution_count": 20,
   "metadata": {},
   "outputs": [
    {
     "data": {
      "text/plain": [
       "array([122])"
      ]
     },
     "execution_count": 20,
     "metadata": {},
     "output_type": "execute_result"
    }
   ],
   "source": [
    "copay"
   ]
  },
  {
   "cell_type": "code",
   "execution_count": null,
   "metadata": {},
   "outputs": [],
   "source": []
  }
 ],
 "metadata": {
  "kernelspec": {
   "display_name": "Python 3",
   "language": "python",
   "name": "python3"
  },
  "language_info": {
   "codemirror_mode": {
    "name": "ipython",
    "version": 3
   },
   "file_extension": ".py",
   "mimetype": "text/x-python",
   "name": "python",
   "nbconvert_exporter": "python",
   "pygments_lexer": "ipython3",
   "version": "3.8.3"
  }
 },
 "nbformat": 4,
 "nbformat_minor": 4
}
